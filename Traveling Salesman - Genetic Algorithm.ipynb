{
 "cells": [
  {
   "cell_type": "code",
   "execution_count": 2,
   "metadata": {
    "collapsed": true
   },
   "outputs": [],
   "source": [
    "# From https://towardsdatascience.com/evolution-of-a-salesman-a-complete-genetic-algorithm-tutorial-for-python-6fe5d2b3ca35\n",
    "\n",
    "# TSP defined as: “Given a list of cities and the distances between each pair of cities, what is the shortest possible route that visits each city and returns to the origin city?”\n",
    "# Rules include:\n",
    "# 1. Each city needs to be visited exactly one time\n",
    "# 2. We must return to the starting city, so our total distance needs to be calculated accordingly"
   ]
  },
  {
   "cell_type": "code",
   "execution_count": 3,
   "metadata": {
    "collapsed": true
   },
   "outputs": [],
   "source": [
    "# Gene = City (x, y) coordinates\n",
    "# Individual (aka Chromosome) = single route satisfying above conditions\n",
    "# Population = collection of possible routes (i.e. collection of chromosomes)\n",
    "# Parents = 2 routes that are combined to create a new route\n",
    "# Mating pool = collection of parents that are used to create our next population (thus creating the next gen of routes)\n",
    "# Fitness = function that tells us how good each route is (in our case, how short the distance is)\n",
    "# Mutation = a way to introduce variation in our population by randomly swapping two cities in the route\n",
    "# Elitism = a way to carry the best individuals into the next generation"
   ]
  },
  {
   "cell_type": "code",
   "execution_count": 4,
   "metadata": {
    "collapsed": true
   },
   "outputs": [],
   "source": [
    "# Steps:\n",
    "# 1. Create the population\n",
    "# 2. Determine the fitness\n",
    "# 3. Select the mating pool\n",
    "# 4. Breed\n",
    "# 5. Mutate\n",
    "# 6. Repeat"
   ]
  },
  {
   "cell_type": "code",
   "execution_count": 5,
   "metadata": {
    "collapsed": true
   },
   "outputs": [],
   "source": [
    "import numpy as np\n",
    "import random\n",
    "import operator\n",
    "import pandas as pd\n",
    "import matplotlib.pyplot as plt"
   ]
  },
  {
   "cell_type": "code",
   "execution_count": 6,
   "metadata": {
    "collapsed": true
   },
   "outputs": [],
   "source": [
    "# City class allows us to create and handle our cities.\n",
    "# Cities represented as (x, y) coordinates.\n",
    "# Use pythagorean theorem to calculate distance to another city.\n",
    "class City:\n",
    "    def __init__(self, x, y):\n",
    "        self.x = x\n",
    "        self.y = y\n",
    "        \n",
    "    def distance(self, city):\n",
    "        xDis = abs(self.x - city.x)\n",
    "        yDis = abs(self.y - city.y)\n",
    "        distance = np.sqrt((xDis ** 2) + (yDis ** 2))\n",
    "        return distance\n",
    "    \n",
    "    def __repr__(self):\n",
    "        return \"(\" + str(self.x) + \",\" + str(self.y) + \")\""
   ]
  },
  {
   "cell_type": "code",
   "execution_count": 7,
   "metadata": {
    "collapsed": true
   },
   "outputs": [],
   "source": [
    "# Fitness class.  Treat fitness as inverse of the route distance.\n",
    "# We want to minimize route distance, so larger fitness is better.\n",
    "# Recall that we must start and end in the same location.\n",
    "class Fitness:\n",
    "    def __init__(self, route):\n",
    "        self.route = route\n",
    "        self.distance = 0\n",
    "        self.fitness = 0.0\n",
    "        \n",
    "    def routeDistance(self):\n",
    "        \"\"\"\n",
    "        Iterate through the route and accumulate the\n",
    "        pathDistance.\n",
    "        \"\"\"\n",
    "        if self.distance == 0:\n",
    "            pathDistance = 0\n",
    "            for i in range(0, len(self.route)):\n",
    "                fromCity = self.route[i]\n",
    "                toCity = None\n",
    "                if i + 1 < len(self.route):\n",
    "                    # If have not completed the route, go to next hop.\n",
    "                    toCity = self.route[i + 1]\n",
    "                else:\n",
    "                    # Completed route. Back to start location.\n",
    "                    toCity = self.route[0]\n",
    "                pathDistance += fromCity.distance(toCity)\n",
    "            self.distance = pathDistance\n",
    "        return self.distance\n",
    "    \n",
    "    def routeFitness(self):\n",
    "        \"\"\"\n",
    "        Return inverse of distance.\n",
    "        We want to minimize distance, so larger fitness is better.\n",
    "        \"\"\"\n",
    "        if self.fitness == 0:\n",
    "            self.fitness = 1 / float(self.routeDistance())\n",
    "        return self.fitness"
   ]
  },
  {
   "cell_type": "code",
   "execution_count": 8,
   "metadata": {
    "collapsed": true
   },
   "outputs": [],
   "source": [
    "# Now create the initial population (aka the first generation).\n",
    "# We need a function that produces routes that satisfy the necessary conditions.\n",
    "\n",
    "def createRoute(cityList):\n",
    "    \"\"\"\n",
    "    Create an individual (aka chromosome).\n",
    "    \"\"\"\n",
    "    route = random.sample(cityList, len(cityList))\n",
    "    return route\n"
   ]
  },
  {
   "cell_type": "code",
   "execution_count": 9,
   "metadata": {
    "collapsed": true
   },
   "outputs": [],
   "source": [
    "def initialPopulation(popSize, cityList):\n",
    "    \"\"\"\n",
    "    Create the initial population. Future generations created\n",
    "    through breeding and mutation.\n",
    "    \"\"\"\n",
    "    population = []\n",
    "    \n",
    "    for i in range(0, popSize):\n",
    "        population.append(createRoute(cityList))\n",
    "    \n",
    "    return population"
   ]
  },
  {
   "cell_type": "code",
   "execution_count": 10,
   "metadata": {
    "collapsed": true
   },
   "outputs": [],
   "source": [
    "# Determine the fitness.\n",
    "# Rank the fitness of each individual in the population.\n",
    "def rankRoutes(population):\n",
    "    fitnessResults = {}\n",
    "    for i in range(0, len(population)):\n",
    "        fitnessResults[i] = Fitness(population[i]).routeFitness()\n",
    "    \n",
    "    # Return ordered list with the route IDs and each associated fitness score.\n",
    "    return sorted(fitnessResults.items(), key = operator.itemgetter(1), reverse = True)"
   ]
  },
  {
   "cell_type": "code",
   "execution_count": 11,
   "metadata": {
    "collapsed": true
   },
   "outputs": [],
   "source": [
    "# Select the mating pool.\n",
    "# There are a few options for how to select the parents that will be used to create the next generation.\n",
    "# Most common approaches are \"fitness proportionate selection\" (aka \"roulette wheel selection\") or \"tournament selection\"\n",
    "\n",
    "# Fitness proportionate selection (version implemented below):\n",
    "# Fitness of each individual relative to the population is used to assign\n",
    "# a probability of selection. Think of this as a fitness-weighted\n",
    "# probability of being selected.\n",
    "\n",
    "# Tournament selection:\n",
    "# A set number of individuals are randomly selected from the population and\n",
    "# the one with the highest fitness in the group is chosen as the first\n",
    "# parent. This is repeated to choose the second parent.\n",
    "\n",
    "# Another design feature is the use of elitism.\n",
    "# With elitism, the best performing individuals from the population will\n",
    "# automatically carry over to the next generation, ensuring that the most\n",
    "# successful individuals persist.\n",
    "\n",
    "def selection(popRanked, eliteSize):\n",
    "    \"\"\"\n",
    "    Use output from rankRoutes to determine which routes to select.\n",
    "    \"\"\"\n",
    "    selectionResults = []\n",
    "    # Set up roulette wheel by calculating a relative fitness\n",
    "    # weight for each individual.\n",
    "    df = pd.DataFrame(np.array(popRanked), columns=[\"Index\", \"Fitness\"])\n",
    "    df['cum_sum'] = df.Fitness.cumsum()\n",
    "    df['cum_perc'] = 100*df.cum_sum/df.Fitness.sum()\n",
    "    \n",
    "    # Introduce elitism to hold onto the best routes.\n",
    "    for i in range(0, eliteSize):\n",
    "        selectionResults.append(popRanked[i][0])\n",
    "    \n",
    "    # Compare a randomly drawn number to these weights to select our mating pool\n",
    "    for i in range(0, len(popRanked) - eliteSize):\n",
    "        pick = 100*random.random()\n",
    "        for j in range(0, len(popRanked)):\n",
    "            if pick <= df.iat[j,3]:\n",
    "                selectionResults.append(popRanked[j][0])\n",
    "                break\n",
    "    \n",
    "    return selectionResults"
   ]
  },
  {
   "cell_type": "code",
   "execution_count": 12,
   "metadata": {
    "collapsed": true
   },
   "outputs": [],
   "source": [
    "# Now that we have the IDs of the routes that will make up the \n",
    "# mating pool from the selection function, we can create \n",
    "# the mating pool.\n",
    "\n",
    "def matingPool(population, selectionResults):\n",
    "    matingpool = []\n",
    "    for i in range(0, len(selectionResults)):\n",
    "        index = selectionResults[i]\n",
    "        matingpool.append(population[index])\n",
    "    return matingpool"
   ]
  },
  {
   "cell_type": "code",
   "execution_count": 13,
   "metadata": {
    "collapsed": true
   },
   "outputs": [],
   "source": [
    "# With the mating pool created, now we breed (aka crossover).\n",
    "# If had a string of 0's and 1's then we simply pick a crossover\n",
    "# point and splice the two strings together.\n",
    "# However, for TSP we need to include all locations exactly once.\n",
    "# Therefore, we need to do a special breeding function called\n",
    "# ordered crossover.\n",
    "\n",
    "# In ordered crossover, we randomly select a subset of the first parent\n",
    "# string and then fill the remainder of the route with the genes from\n",
    "# the second parent in the order in which they appear, without\n",
    "# duplicating any genes in the selected subset from the first parent.\n",
    "def breed(parent1, parent2):\n",
    "    child = []\n",
    "    childP1 = []\n",
    "    childP2 = []\n",
    "    \n",
    "    # Get random genes from parent 1.\n",
    "    geneA = int(random.random() * len(parent1))\n",
    "    geneB = int(random.random() * len(parent1))\n",
    "    \n",
    "    # Determine starting and ending gene.\n",
    "    startGene = min(geneA, geneB)\n",
    "    endGene = max(geneA, geneB)\n",
    "    \n",
    "    # Get genes from parent1\n",
    "    for i in range(startGene, endGene):\n",
    "        childP1.append(parent1[i])\n",
    "    \n",
    "    # Get remaining genes from parent2\n",
    "    childP2 = [item for item in parent2 if item not in childP1]\n",
    "    \n",
    "    # Combine genes\n",
    "    child = childP1 + childP2\n",
    "    return child"
   ]
  },
  {
   "cell_type": "code",
   "execution_count": 14,
   "metadata": {
    "collapsed": true
   },
   "outputs": [],
   "source": [
    "# Generalize this to create our offspring population.\n",
    "\n",
    "def breedPopulation(matingpool, eliteSize):\n",
    "    children = []\n",
    "    length = len(matingpool) - eliteSize\n",
    "    pool = random.sample(matingpool, len(matingpool))\n",
    "    \n",
    "    # Use elitism to retain the best routes from current population.\n",
    "    for i in range(0, eliteSize):\n",
    "        children.append(matingpool[i])\n",
    "    \n",
    "    # Use breed function to fill out the rest of the next generation.\n",
    "    for i in range(0, length):\n",
    "        child = breed(pool[i], pool[len(matingpool)-i-1])\n",
    "        children.append(child)\n",
    "    return children"
   ]
  },
  {
   "cell_type": "code",
   "execution_count": 16,
   "metadata": {
    "collapsed": false
   },
   "outputs": [],
   "source": [
    "# Mutation helps to avoid local convergence and introduces\n",
    "# novel routes that allow us to explore other parts of the solution\n",
    "# space.\n",
    "\n",
    "# If we had a string of 0's and 1's then mutation would simply mean\n",
    "# assigning a low probability of a gene changing from 0 to 1 or vice versa.\n",
    "\n",
    "# However, since we must visit all cities we can't drop any.\n",
    "# Instead we use swap mutation.\n",
    "# Swap mutation means with specified low probability, two cities will\n",
    "# swap places in the route.\n",
    "\n",
    "def mutate(individual, mutationRate):\n",
    "    \"\"\"\n",
    "    Swap mutate one individual.\n",
    "    \"\"\"\n",
    "    for swapped in range(len(individual)):\n",
    "        if(random.random() < mutationRate):\n",
    "            swapWith = int(random.random() * len(individual))\n",
    "            \n",
    "            city1 = individual[swapped]\n",
    "            city2 = individual[swapWith]\n",
    "            \n",
    "            individual[swapped] = city2\n",
    "            individual[swapWith] = city1\n",
    "    \n",
    "    return individual"
   ]
  },
  {
   "cell_type": "code",
   "execution_count": 23,
   "metadata": {
    "collapsed": true
   },
   "outputs": [],
   "source": [
    "def mutatePopulation(population, mutationRate):\n",
    "    \"\"\"\n",
    "    Mutate the new population.\n",
    "    \"\"\"\n",
    "    mutatedPop = []\n",
    "    \n",
    "    for ind in range(0, len(population)):\n",
    "        mutatedInd = mutate(population[ind], mutationRate)\n",
    "        mutatedPop.append(mutatedInd)\n",
    "    \n",
    "    return mutatedPop"
   ]
  },
  {
   "cell_type": "code",
   "execution_count": 24,
   "metadata": {
    "collapsed": false
   },
   "outputs": [],
   "source": [
    "# Now need to combine the above to create a function that produces\n",
    "# a new generation.\n",
    "\n",
    "# 1. Rank routes in current generation with rankRoutes()\n",
    "# 2. Determine potential parents by running selection()\n",
    "# 3. This allows us to create the mating pool using matingPool()\n",
    "# 4. Create new generation using breedPopulation()\n",
    "# 5. Apply mutation using mutatePopulation()\n",
    "\n",
    "def nextGeneration(currentGen, eliteSize, mutationRate):\n",
    "    popRanked = rankRoutes(currentGen)\n",
    "    selectionResults = selection(popRanked, eliteSize)\n",
    "    matingpool = matingPool(currentGen, selectionResults)\n",
    "    children = breedPopulation(matingpool, eliteSize)\n",
    "    nextGeneration = mutatePopulation(children, mutationRate)\n",
    "    return nextGeneration"
   ]
  },
  {
   "cell_type": "code",
   "execution_count": 25,
   "metadata": {
    "collapsed": true
   },
   "outputs": [],
   "source": [
    "# Now we can create the Genetic Algorithm\n",
    "# Create the initial population, then loop through as many\n",
    "# generations as we desire.\n",
    "\n",
    "def geneticAlgorithm(population, popSize, eliteSize, mutationRate, generations):\n",
    "    pop = initialPopulation(popSize, population)\n",
    "    # Distance is inverse of the fitness\n",
    "    print(\"Initial distance: \" + str(1 / rankRoutes(pop)[0][1]))\n",
    "    \n",
    "    # Go through all generations.\n",
    "    for i in range(0, generations):\n",
    "        pop = nextGeneration(pop, eliteSize, mutationRate)\n",
    "    \n",
    "    print(\"Final distance: \" + str(1 / rankRoutes(pop)[0][1]))\n",
    "    bestRouteIndex = rankRoutes(pop)[0][0]\n",
    "    bestRoute = pop[bestRouteIndex]\n",
    "    return bestRoute"
   ]
  },
  {
   "cell_type": "code",
   "execution_count": null,
   "metadata": {
    "collapsed": true
   },
   "outputs": [],
   "source": []
  },
  {
   "cell_type": "code",
   "execution_count": 26,
   "metadata": {
    "collapsed": true
   },
   "outputs": [],
   "source": [
    "# Now we need to create our city list.\n",
    "cityList = []\n",
    "\n",
    "# Create 25 random cities.\n",
    "for i in range(0, 25):\n",
    "    cityList.append(City(x=int(random.random() * 200), y=int(random.random() * 200)))"
   ]
  },
  {
   "cell_type": "code",
   "execution_count": 27,
   "metadata": {
    "collapsed": false
   },
   "outputs": [
    {
     "name": "stdout",
     "output_type": "stream",
     "text": [
      "Initial distance: 2283.8200369602314\n",
      "Final distance: 924.7733511372774\n"
     ]
    },
    {
     "data": {
      "text/plain": [
       "[(55,154),\n",
       " (89,142),\n",
       " (107,148),\n",
       " (110,128),\n",
       " (143,139),\n",
       " (143,175),\n",
       " (171,188),\n",
       " (177,180),\n",
       " (173,89),\n",
       " (194,80),\n",
       " (186,46),\n",
       " (190,42),\n",
       " (181,1),\n",
       " (163,3),\n",
       " (97,44),\n",
       " (137,73),\n",
       " (99,90),\n",
       " (68,62),\n",
       " (39,67),\n",
       " (31,27),\n",
       " (13,56),\n",
       " (20,125),\n",
       " (31,126),\n",
       " (5,187),\n",
       " (49,153)]"
      ]
     },
     "execution_count": 27,
     "metadata": {},
     "output_type": "execute_result"
    }
   ],
   "source": [
    "# Run the genetic algorithm.\n",
    "# 100 individuals in each generation\n",
    "# 20 elite individuals\n",
    "# 1% mutation rate for a given gene\n",
    "# Run through 500 generations\n",
    "\n",
    "geneticAlgorithm(population=cityList, popSize=100, eliteSize=20, mutationRate=0.01, generations=500)"
   ]
  },
  {
   "cell_type": "code",
   "execution_count": 28,
   "metadata": {
    "collapsed": true
   },
   "outputs": [],
   "source": [
    "# Now create it so that it plots the progress with each generation.\n",
    "def geneticAlgorithmPlot(population, popSize, eliteSize, mutationRate, generations):\n",
    "    pop = initialPopulation(popSize, population)\n",
    "    progress = []\n",
    "    progress.append(1 / rankRoutes(pop)[0][1])\n",
    "    \n",
    "    for i in range(0, generations):\n",
    "        pop = nextGeneration(pop, eliteSize, mutationRate)\n",
    "        progress.append(1 / rankRoutes(pop)[0][1])\n",
    "    \n",
    "    plt.plot(progress)\n",
    "    plt.ylabel('Distance')\n",
    "    plt.xlabel('Generation')\n",
    "    plt.show()"
   ]
  },
  {
   "cell_type": "code",
   "execution_count": 29,
   "metadata": {
    "collapsed": false
   },
   "outputs": [
    {
     "data": {
      "image/png": "[encoded data removed]",
      "text/plain": [
       "<Figure size 432x288 with 1 Axes>"
      ]
     },
     "metadata": {},
     "output_type": "display_data"
    }
   ],
   "source": [
    "# Run algorithm and see plot\n",
    "geneticAlgorithmPlot(population=cityList, popSize=100, eliteSize=20, mutationRate=0.01, generations=500)"
   ]
  },
  {
   "cell_type": "code",
   "execution_count": null,
   "metadata": {
    "collapsed": true
   },
   "outputs": [],
   "source": []
  }
 ],
 "metadata": {
  "kernelspec": {
   "display_name": "Python 3",
   "language": "python",
   "name": "python3"
  },
  "language_info": {
   "codemirror_mode": {
    "name": "ipython",
    "version": 3
   },
   "file_extension": ".py",
   "mimetype": "text/x-python",
   "name": "python",
   "nbconvert_exporter": "python",
   "pygments_lexer": "ipython3",
   "version": "3.6.0"
  }
 },
 "nbformat": 4,
 "nbformat_minor": 2
}
